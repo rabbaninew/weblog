{
  "nbformat": 4,
  "nbformat_minor": 0,
  "metadata": {
    "colab": {
      "name": "weblog_task.ipynb",
      "provenance": [],
      "collapsed_sections": []
    },
    "kernelspec": {
      "display_name": "Python 3",
      "name": "python3"
    }
  },
  "cells": [
    {
      "cell_type": "code",
      "metadata": {
        "id": "sKjbNp7Yga_d"
      },
      "source": [
        "import re\r\n",
        "import pandas as pd"
      ],
      "execution_count": null,
      "outputs": []
    },
    {
      "cell_type": "code",
      "metadata": {
        "id": "6VBGjWQVgm8M"
      },
      "source": [
        "data=pd.read_csv('/content/weblog.csv')"
      ],
      "execution_count": null,
      "outputs": []
    },
    {
      "cell_type": "code",
      "metadata": {
        "colab": {
          "base_uri": "https://localhost:8080/",
          "height": 197
        },
        "id": "KZ1r6M-YhKZ2",
        "outputId": "f58ce206-4406-4736-b6b9-be8c806a3fbe"
      },
      "source": [
        "data.head()"
      ],
      "execution_count": null,
      "outputs": [
        {
          "output_type": "execute_result",
          "data": {
            "text/html": [
              "<div>\n",
              "<style scoped>\n",
              "    .dataframe tbody tr th:only-of-type {\n",
              "        vertical-align: middle;\n",
              "    }\n",
              "\n",
              "    .dataframe tbody tr th {\n",
              "        vertical-align: top;\n",
              "    }\n",
              "\n",
              "    .dataframe thead th {\n",
              "        text-align: right;\n",
              "    }\n",
              "</style>\n",
              "<table border=\"1\" class=\"dataframe\">\n",
              "  <thead>\n",
              "    <tr style=\"text-align: right;\">\n",
              "      <th></th>\n",
              "      <th>IP</th>\n",
              "      <th>Time</th>\n",
              "      <th>URL</th>\n",
              "      <th>Staus</th>\n",
              "    </tr>\n",
              "  </thead>\n",
              "  <tbody>\n",
              "    <tr>\n",
              "      <th>0</th>\n",
              "      <td>10.128.2.1</td>\n",
              "      <td>[29/Nov/2017:06:58:55</td>\n",
              "      <td>GET /login.php HTTP/1.1</td>\n",
              "      <td>200</td>\n",
              "    </tr>\n",
              "    <tr>\n",
              "      <th>1</th>\n",
              "      <td>10.128.2.1</td>\n",
              "      <td>[29/Nov/2017:06:59:02</td>\n",
              "      <td>POST /process.php HTTP/1.1</td>\n",
              "      <td>302</td>\n",
              "    </tr>\n",
              "    <tr>\n",
              "      <th>2</th>\n",
              "      <td>10.128.2.1</td>\n",
              "      <td>[29/Nov/2017:06:59:03</td>\n",
              "      <td>GET /home.php HTTP/1.1</td>\n",
              "      <td>200</td>\n",
              "    </tr>\n",
              "    <tr>\n",
              "      <th>3</th>\n",
              "      <td>10.131.2.1</td>\n",
              "      <td>[29/Nov/2017:06:59:04</td>\n",
              "      <td>GET /js/vendor/moment.min.js HTTP/1.1</td>\n",
              "      <td>200</td>\n",
              "    </tr>\n",
              "    <tr>\n",
              "      <th>4</th>\n",
              "      <td>10.130.2.1</td>\n",
              "      <td>[29/Nov/2017:06:59:06</td>\n",
              "      <td>GET /bootstrap-3.3.7/js/bootstrap.js HTTP/1.1</td>\n",
              "      <td>200</td>\n",
              "    </tr>\n",
              "  </tbody>\n",
              "</table>\n",
              "</div>"
            ],
            "text/plain": [
              "           IP  ... Staus\n",
              "0  10.128.2.1  ...   200\n",
              "1  10.128.2.1  ...   302\n",
              "2  10.128.2.1  ...   200\n",
              "3  10.131.2.1  ...   200\n",
              "4  10.130.2.1  ...   200\n",
              "\n",
              "[5 rows x 4 columns]"
            ]
          },
          "metadata": {
            "tags": []
          },
          "execution_count": 199
        }
      ]
    },
    {
      "cell_type": "code",
      "metadata": {
        "colab": {
          "base_uri": "https://localhost:8080/"
        },
        "id": "sFYsrYmOB_YP",
        "outputId": "7d7cc284-054e-43ae-a5d2-a676251783ca"
      },
      "source": [
        "data.info()"
      ],
      "execution_count": null,
      "outputs": [
        {
          "output_type": "stream",
          "text": [
            "<class 'pandas.core.frame.DataFrame'>\n",
            "RangeIndex: 16007 entries, 0 to 16006\n",
            "Data columns (total 4 columns):\n",
            " #   Column  Non-Null Count  Dtype \n",
            "---  ------  --------------  ----- \n",
            " 0   IP      16007 non-null  object\n",
            " 1   Time    16007 non-null  object\n",
            " 2   URL     16007 non-null  object\n",
            " 3   Staus   16007 non-null  object\n",
            "dtypes: object(4)\n",
            "memory usage: 500.3+ KB\n"
          ],
          "name": "stdout"
        }
      ]
    },
    {
      "cell_type": "code",
      "metadata": {
        "colab": {
          "base_uri": "https://localhost:8080/"
        },
        "id": "sktYKIahCG_R",
        "outputId": "5a487d6c-df53-414a-bf67-bc8a821b278b"
      },
      "source": [
        "data.shape"
      ],
      "execution_count": null,
      "outputs": [
        {
          "output_type": "execute_result",
          "data": {
            "text/plain": [
              "(16007, 4)"
            ]
          },
          "metadata": {
            "tags": []
          },
          "execution_count": 201
        }
      ]
    },
    {
      "cell_type": "code",
      "metadata": {
        "colab": {
          "base_uri": "https://localhost:8080/"
        },
        "id": "Tjh5OVgsn0Xy",
        "outputId": "49e0f56a-75b7-4bbe-ed40-2133f0d0b652"
      },
      "source": [
        "data.Staus.value_counts()"
      ],
      "execution_count": null,
      "outputs": [
        {
          "output_type": "execute_result",
          "data": {
            "text/plain": [
              "200             11330\n",
              "302              3498\n",
              "304               658\n",
              "404               251\n",
              "No                167\n",
              "206                52\n",
              "2018]              28\n",
              "2017]               7\n",
              "dumped              5\n",
              "Aborted             4\n",
              "Assertion           4\n",
              "found               2\n",
              "Segmentation        1\n",
              "Name: Staus, dtype: int64"
            ]
          },
          "metadata": {
            "tags": []
          },
          "execution_count": 202
        }
      ]
    },
    {
      "cell_type": "code",
      "metadata": {
        "colab": {
          "base_uri": "https://localhost:8080/",
          "height": 406
        },
        "id": "BMx7j2Y7n0fC",
        "outputId": "8bd4c584-f52a-4e66-a3d2-44d5b49c0dd6"
      },
      "source": [
        "#flitering only codes\r\n",
        "\r\n",
        "df = data[(data.Staus.isin([\"200\",\"302\",\"304\",\"404\",\"206\"]))]\r\n",
        "df"
      ],
      "execution_count": null,
      "outputs": [
        {
          "output_type": "execute_result",
          "data": {
            "text/html": [
              "<div>\n",
              "<style scoped>\n",
              "    .dataframe tbody tr th:only-of-type {\n",
              "        vertical-align: middle;\n",
              "    }\n",
              "\n",
              "    .dataframe tbody tr th {\n",
              "        vertical-align: top;\n",
              "    }\n",
              "\n",
              "    .dataframe thead th {\n",
              "        text-align: right;\n",
              "    }\n",
              "</style>\n",
              "<table border=\"1\" class=\"dataframe\">\n",
              "  <thead>\n",
              "    <tr style=\"text-align: right;\">\n",
              "      <th></th>\n",
              "      <th>IP</th>\n",
              "      <th>Time</th>\n",
              "      <th>URL</th>\n",
              "      <th>Staus</th>\n",
              "    </tr>\n",
              "  </thead>\n",
              "  <tbody>\n",
              "    <tr>\n",
              "      <th>0</th>\n",
              "      <td>10.128.2.1</td>\n",
              "      <td>[29/Nov/2017:06:58:55</td>\n",
              "      <td>GET /login.php HTTP/1.1</td>\n",
              "      <td>200</td>\n",
              "    </tr>\n",
              "    <tr>\n",
              "      <th>1</th>\n",
              "      <td>10.128.2.1</td>\n",
              "      <td>[29/Nov/2017:06:59:02</td>\n",
              "      <td>POST /process.php HTTP/1.1</td>\n",
              "      <td>302</td>\n",
              "    </tr>\n",
              "    <tr>\n",
              "      <th>2</th>\n",
              "      <td>10.128.2.1</td>\n",
              "      <td>[29/Nov/2017:06:59:03</td>\n",
              "      <td>GET /home.php HTTP/1.1</td>\n",
              "      <td>200</td>\n",
              "    </tr>\n",
              "    <tr>\n",
              "      <th>3</th>\n",
              "      <td>10.131.2.1</td>\n",
              "      <td>[29/Nov/2017:06:59:04</td>\n",
              "      <td>GET /js/vendor/moment.min.js HTTP/1.1</td>\n",
              "      <td>200</td>\n",
              "    </tr>\n",
              "    <tr>\n",
              "      <th>4</th>\n",
              "      <td>10.130.2.1</td>\n",
              "      <td>[29/Nov/2017:06:59:06</td>\n",
              "      <td>GET /bootstrap-3.3.7/js/bootstrap.js HTTP/1.1</td>\n",
              "      <td>200</td>\n",
              "    </tr>\n",
              "    <tr>\n",
              "      <th>...</th>\n",
              "      <td>...</td>\n",
              "      <td>...</td>\n",
              "      <td>...</td>\n",
              "      <td>...</td>\n",
              "    </tr>\n",
              "    <tr>\n",
              "      <th>16002</th>\n",
              "      <td>10.130.2.1</td>\n",
              "      <td>[02/Mar/2018:15:47:12</td>\n",
              "      <td>GET /showcode.php?id=309&amp;nm=ham05 HTTP/1.1</td>\n",
              "      <td>200</td>\n",
              "    </tr>\n",
              "    <tr>\n",
              "      <th>16003</th>\n",
              "      <td>10.130.2.1</td>\n",
              "      <td>[02/Mar/2018:15:47:23</td>\n",
              "      <td>GET /allsubmission.php HTTP/1.1</td>\n",
              "      <td>200</td>\n",
              "    </tr>\n",
              "    <tr>\n",
              "      <th>16004</th>\n",
              "      <td>10.130.2.1</td>\n",
              "      <td>[02/Mar/2018:15:47:32</td>\n",
              "      <td>GET /showcode.php?id=309&amp;nm=ham05 HTTP/1.1</td>\n",
              "      <td>200</td>\n",
              "    </tr>\n",
              "    <tr>\n",
              "      <th>16005</th>\n",
              "      <td>10.130.2.1</td>\n",
              "      <td>[02/Mar/2018:15:47:35</td>\n",
              "      <td>GET /allsubmission.php HTTP/1.1</td>\n",
              "      <td>200</td>\n",
              "    </tr>\n",
              "    <tr>\n",
              "      <th>16006</th>\n",
              "      <td>10.130.2.1</td>\n",
              "      <td>[02/Mar/2018:15:47:46</td>\n",
              "      <td>GET /home.php HTTP/1.1</td>\n",
              "      <td>200</td>\n",
              "    </tr>\n",
              "  </tbody>\n",
              "</table>\n",
              "<p>15789 rows × 4 columns</p>\n",
              "</div>"
            ],
            "text/plain": [
              "               IP  ... Staus\n",
              "0      10.128.2.1  ...   200\n",
              "1      10.128.2.1  ...   302\n",
              "2      10.128.2.1  ...   200\n",
              "3      10.131.2.1  ...   200\n",
              "4      10.130.2.1  ...   200\n",
              "...           ...  ...   ...\n",
              "16002  10.130.2.1  ...   200\n",
              "16003  10.130.2.1  ...   200\n",
              "16004  10.130.2.1  ...   200\n",
              "16005  10.130.2.1  ...   200\n",
              "16006  10.130.2.1  ...   200\n",
              "\n",
              "[15789 rows x 4 columns]"
            ]
          },
          "metadata": {
            "tags": []
          },
          "execution_count": 203
        }
      ]
    },
    {
      "cell_type": "code",
      "metadata": {
        "colab": {
          "base_uri": "https://localhost:8080/"
        },
        "id": "ElQa0gvFoWTQ",
        "outputId": "1065e499-4aaa-46d9-cdec-2ed4f3bc664a"
      },
      "source": [
        "df.shape"
      ],
      "execution_count": null,
      "outputs": [
        {
          "output_type": "execute_result",
          "data": {
            "text/plain": [
              "(15789, 4)"
            ]
          },
          "metadata": {
            "tags": []
          },
          "execution_count": 204
        }
      ]
    },
    {
      "cell_type": "code",
      "metadata": {
        "colab": {
          "base_uri": "https://localhost:8080/",
          "height": 197
        },
        "id": "CSmqCg3Y-Een",
        "outputId": "fb852fe0-18f7-4e4d-add8-e1cd8063f4b0"
      },
      "source": [
        "pd.concat([df['Staus'].value_counts().rename('count'), \r\n",
        "        df['Staus'].value_counts(normalize=True).mul(100).rename('percentage')], axis=1)"
      ],
      "execution_count": null,
      "outputs": [
        {
          "output_type": "execute_result",
          "data": {
            "text/html": [
              "<div>\n",
              "<style scoped>\n",
              "    .dataframe tbody tr th:only-of-type {\n",
              "        vertical-align: middle;\n",
              "    }\n",
              "\n",
              "    .dataframe tbody tr th {\n",
              "        vertical-align: top;\n",
              "    }\n",
              "\n",
              "    .dataframe thead th {\n",
              "        text-align: right;\n",
              "    }\n",
              "</style>\n",
              "<table border=\"1\" class=\"dataframe\">\n",
              "  <thead>\n",
              "    <tr style=\"text-align: right;\">\n",
              "      <th></th>\n",
              "      <th>count</th>\n",
              "      <th>percentage</th>\n",
              "    </tr>\n",
              "  </thead>\n",
              "  <tbody>\n",
              "    <tr>\n",
              "      <th>200</th>\n",
              "      <td>11330</td>\n",
              "      <td>71.758819</td>\n",
              "    </tr>\n",
              "    <tr>\n",
              "      <th>302</th>\n",
              "      <td>3498</td>\n",
              "      <td>22.154665</td>\n",
              "    </tr>\n",
              "    <tr>\n",
              "      <th>304</th>\n",
              "      <td>658</td>\n",
              "      <td>4.167458</td>\n",
              "    </tr>\n",
              "    <tr>\n",
              "      <th>404</th>\n",
              "      <td>251</td>\n",
              "      <td>1.589714</td>\n",
              "    </tr>\n",
              "    <tr>\n",
              "      <th>206</th>\n",
              "      <td>52</td>\n",
              "      <td>0.329343</td>\n",
              "    </tr>\n",
              "  </tbody>\n",
              "</table>\n",
              "</div>"
            ],
            "text/plain": [
              "     count  percentage\n",
              "200  11330   71.758819\n",
              "302   3498   22.154665\n",
              "304    658    4.167458\n",
              "404    251    1.589714\n",
              "206     52    0.329343"
            ]
          },
          "metadata": {
            "tags": []
          },
          "execution_count": 235
        }
      ]
    },
    {
      "cell_type": "code",
      "metadata": {
        "id": "-DSsm1rbDgrG"
      },
      "source": [
        "import sidetable"
      ],
      "execution_count": null,
      "outputs": []
    },
    {
      "cell_type": "code",
      "metadata": {
        "colab": {
          "base_uri": "https://localhost:8080/",
          "height": 124
        },
        "id": "yzWlIxOkDguM",
        "outputId": "4b37e5f2-ad4d-442d-869b-2f3487802adf"
      },
      "source": [
        "df.stb.freq(['Staus'],style=True)"
      ],
      "execution_count": null,
      "outputs": [
        {
          "output_type": "execute_result",
          "data": {
            "text/html": [
              "<style  type=\"text/css\" >\n",
              "</style><table id=\"T_03e3824c_87d5_11eb_ae2b_0242ac1c0002\" ><thead>    <tr>        <th class=\"blank level0\" ></th>        <th class=\"col_heading level0 col0\" >Staus</th>        <th class=\"col_heading level0 col1\" >count</th>        <th class=\"col_heading level0 col2\" >percent</th>        <th class=\"col_heading level0 col3\" >cumulative_count</th>        <th class=\"col_heading level0 col4\" >cumulative_percent</th>    </tr></thead><tbody>\n",
              "                <tr>\n",
              "                        <th id=\"T_03e3824c_87d5_11eb_ae2b_0242ac1c0002level0_row0\" class=\"row_heading level0 row0\" >0</th>\n",
              "                        <td id=\"T_03e3824c_87d5_11eb_ae2b_0242ac1c0002row0_col0\" class=\"data row0 col0\" >200</td>\n",
              "                        <td id=\"T_03e3824c_87d5_11eb_ae2b_0242ac1c0002row0_col1\" class=\"data row0 col1\" >11,330</td>\n",
              "                        <td id=\"T_03e3824c_87d5_11eb_ae2b_0242ac1c0002row0_col2\" class=\"data row0 col2\" >71.76%</td>\n",
              "                        <td id=\"T_03e3824c_87d5_11eb_ae2b_0242ac1c0002row0_col3\" class=\"data row0 col3\" >11,330</td>\n",
              "                        <td id=\"T_03e3824c_87d5_11eb_ae2b_0242ac1c0002row0_col4\" class=\"data row0 col4\" >71.76%</td>\n",
              "            </tr>\n",
              "            <tr>\n",
              "                        <th id=\"T_03e3824c_87d5_11eb_ae2b_0242ac1c0002level0_row1\" class=\"row_heading level0 row1\" >1</th>\n",
              "                        <td id=\"T_03e3824c_87d5_11eb_ae2b_0242ac1c0002row1_col0\" class=\"data row1 col0\" >302</td>\n",
              "                        <td id=\"T_03e3824c_87d5_11eb_ae2b_0242ac1c0002row1_col1\" class=\"data row1 col1\" >3,498</td>\n",
              "                        <td id=\"T_03e3824c_87d5_11eb_ae2b_0242ac1c0002row1_col2\" class=\"data row1 col2\" >22.15%</td>\n",
              "                        <td id=\"T_03e3824c_87d5_11eb_ae2b_0242ac1c0002row1_col3\" class=\"data row1 col3\" >14,828</td>\n",
              "                        <td id=\"T_03e3824c_87d5_11eb_ae2b_0242ac1c0002row1_col4\" class=\"data row1 col4\" >93.91%</td>\n",
              "            </tr>\n",
              "            <tr>\n",
              "                        <th id=\"T_03e3824c_87d5_11eb_ae2b_0242ac1c0002level0_row2\" class=\"row_heading level0 row2\" >2</th>\n",
              "                        <td id=\"T_03e3824c_87d5_11eb_ae2b_0242ac1c0002row2_col0\" class=\"data row2 col0\" >304</td>\n",
              "                        <td id=\"T_03e3824c_87d5_11eb_ae2b_0242ac1c0002row2_col1\" class=\"data row2 col1\" >658</td>\n",
              "                        <td id=\"T_03e3824c_87d5_11eb_ae2b_0242ac1c0002row2_col2\" class=\"data row2 col2\" >4.17%</td>\n",
              "                        <td id=\"T_03e3824c_87d5_11eb_ae2b_0242ac1c0002row2_col3\" class=\"data row2 col3\" >15,486</td>\n",
              "                        <td id=\"T_03e3824c_87d5_11eb_ae2b_0242ac1c0002row2_col4\" class=\"data row2 col4\" >98.08%</td>\n",
              "            </tr>\n",
              "            <tr>\n",
              "                        <th id=\"T_03e3824c_87d5_11eb_ae2b_0242ac1c0002level0_row3\" class=\"row_heading level0 row3\" >3</th>\n",
              "                        <td id=\"T_03e3824c_87d5_11eb_ae2b_0242ac1c0002row3_col0\" class=\"data row3 col0\" >404</td>\n",
              "                        <td id=\"T_03e3824c_87d5_11eb_ae2b_0242ac1c0002row3_col1\" class=\"data row3 col1\" >251</td>\n",
              "                        <td id=\"T_03e3824c_87d5_11eb_ae2b_0242ac1c0002row3_col2\" class=\"data row3 col2\" >1.59%</td>\n",
              "                        <td id=\"T_03e3824c_87d5_11eb_ae2b_0242ac1c0002row3_col3\" class=\"data row3 col3\" >15,737</td>\n",
              "                        <td id=\"T_03e3824c_87d5_11eb_ae2b_0242ac1c0002row3_col4\" class=\"data row3 col4\" >99.67%</td>\n",
              "            </tr>\n",
              "            <tr>\n",
              "                        <th id=\"T_03e3824c_87d5_11eb_ae2b_0242ac1c0002level0_row4\" class=\"row_heading level0 row4\" >4</th>\n",
              "                        <td id=\"T_03e3824c_87d5_11eb_ae2b_0242ac1c0002row4_col0\" class=\"data row4 col0\" >206</td>\n",
              "                        <td id=\"T_03e3824c_87d5_11eb_ae2b_0242ac1c0002row4_col1\" class=\"data row4 col1\" >52</td>\n",
              "                        <td id=\"T_03e3824c_87d5_11eb_ae2b_0242ac1c0002row4_col2\" class=\"data row4 col2\" >0.33%</td>\n",
              "                        <td id=\"T_03e3824c_87d5_11eb_ae2b_0242ac1c0002row4_col3\" class=\"data row4 col3\" >15,789</td>\n",
              "                        <td id=\"T_03e3824c_87d5_11eb_ae2b_0242ac1c0002row4_col4\" class=\"data row4 col4\" >100.00%</td>\n",
              "            </tr>\n",
              "    </tbody></table>"
            ],
            "text/plain": [
              "<pandas.io.formats.style.Styler at 0x7ff3997554d0>"
            ]
          },
          "metadata": {
            "tags": []
          },
          "execution_count": 206
        }
      ]
    },
    {
      "cell_type": "code",
      "metadata": {
        "id": "HD0OeFfTCCOk",
        "colab": {
          "base_uri": "https://localhost:8080/",
          "height": 592
        },
        "outputId": "31b7928a-823a-4272-e283-fb7e44c10353"
      },
      "source": [
        "df.Staus.value_counts().plot.pie(figsize=(10,10))"
      ],
      "execution_count": null,
      "outputs": [
        {
          "output_type": "execute_result",
          "data": {
            "text/plain": [
              "<matplotlib.axes._subplots.AxesSubplot at 0x7ff398f61310>"
            ]
          },
          "metadata": {
            "tags": []
          },
          "execution_count": 207
        },
        {
          "output_type": "display_data",
          "data": {
            "image/png": "[encoded data removed]",
            "text/plain": [
              "<Figure size 720x720 with 1 Axes>"
            ]
          },
          "metadata": {
            "tags": []
          }
        }
      ]
    },
    {
      "cell_type": "code",
      "metadata": {
        "colab": {
          "base_uri": "https://localhost:8080/"
        },
        "id": "Utu6BoolpqbZ",
        "outputId": "5f293f29-9a50-4e88-b510-51e3b352a116"
      },
      "source": [
        "df.info()"
      ],
      "execution_count": null,
      "outputs": [
        {
          "output_type": "stream",
          "text": [
            "<class 'pandas.core.frame.DataFrame'>\n",
            "Int64Index: 15789 entries, 0 to 16006\n",
            "Data columns (total 4 columns):\n",
            " #   Column  Non-Null Count  Dtype \n",
            "---  ------  --------------  ----- \n",
            " 0   IP      15789 non-null  object\n",
            " 1   Time    15789 non-null  object\n",
            " 2   URL     15789 non-null  object\n",
            " 3   Staus   15789 non-null  object\n",
            "dtypes: object(4)\n",
            "memory usage: 616.8+ KB\n"
          ],
          "name": "stdout"
        }
      ]
    },
    {
      "cell_type": "code",
      "metadata": {
        "colab": {
          "base_uri": "https://localhost:8080/",
          "height": 197
        },
        "id": "KDMv08wVPF5e",
        "outputId": "1a836f4c-ef92-4c23-9b67-3674f65af03f"
      },
      "source": [
        "df.head()"
      ],
      "execution_count": null,
      "outputs": [
        {
          "output_type": "execute_result",
          "data": {
            "text/html": [
              "<div>\n",
              "<style scoped>\n",
              "    .dataframe tbody tr th:only-of-type {\n",
              "        vertical-align: middle;\n",
              "    }\n",
              "\n",
              "    .dataframe tbody tr th {\n",
              "        vertical-align: top;\n",
              "    }\n",
              "\n",
              "    .dataframe thead th {\n",
              "        text-align: right;\n",
              "    }\n",
              "</style>\n",
              "<table border=\"1\" class=\"dataframe\">\n",
              "  <thead>\n",
              "    <tr style=\"text-align: right;\">\n",
              "      <th></th>\n",
              "      <th>IP</th>\n",
              "      <th>Time</th>\n",
              "      <th>URL</th>\n",
              "      <th>Staus</th>\n",
              "    </tr>\n",
              "  </thead>\n",
              "  <tbody>\n",
              "    <tr>\n",
              "      <th>0</th>\n",
              "      <td>10.128.2.1</td>\n",
              "      <td>[29/Nov/2017:06:58:55</td>\n",
              "      <td>GET /login.php HTTP/1.1</td>\n",
              "      <td>200</td>\n",
              "    </tr>\n",
              "    <tr>\n",
              "      <th>1</th>\n",
              "      <td>10.128.2.1</td>\n",
              "      <td>[29/Nov/2017:06:59:02</td>\n",
              "      <td>POST /process.php HTTP/1.1</td>\n",
              "      <td>302</td>\n",
              "    </tr>\n",
              "    <tr>\n",
              "      <th>2</th>\n",
              "      <td>10.128.2.1</td>\n",
              "      <td>[29/Nov/2017:06:59:03</td>\n",
              "      <td>GET /home.php HTTP/1.1</td>\n",
              "      <td>200</td>\n",
              "    </tr>\n",
              "    <tr>\n",
              "      <th>3</th>\n",
              "      <td>10.131.2.1</td>\n",
              "      <td>[29/Nov/2017:06:59:04</td>\n",
              "      <td>GET /js/vendor/moment.min.js HTTP/1.1</td>\n",
              "      <td>200</td>\n",
              "    </tr>\n",
              "    <tr>\n",
              "      <th>4</th>\n",
              "      <td>10.130.2.1</td>\n",
              "      <td>[29/Nov/2017:06:59:06</td>\n",
              "      <td>GET /bootstrap-3.3.7/js/bootstrap.js HTTP/1.1</td>\n",
              "      <td>200</td>\n",
              "    </tr>\n",
              "  </tbody>\n",
              "</table>\n",
              "</div>"
            ],
            "text/plain": [
              "           IP  ... Staus\n",
              "0  10.128.2.1  ...   200\n",
              "1  10.128.2.1  ...   302\n",
              "2  10.128.2.1  ...   200\n",
              "3  10.131.2.1  ...   200\n",
              "4  10.130.2.1  ...   200\n",
              "\n",
              "[5 rows x 4 columns]"
            ]
          },
          "metadata": {
            "tags": []
          },
          "execution_count": 209
        }
      ]
    },
    {
      "cell_type": "code",
      "metadata": {
        "colab": {
          "base_uri": "https://localhost:8080/"
        },
        "id": "cj2rsfqqeaSN",
        "outputId": "7c814a88-05d6-4cb0-ada6-18a136915d9e"
      },
      "source": [
        "#replacing symbols\r\n",
        "df.Time = df.Time.str.replace('[', '')"
      ],
      "execution_count": null,
      "outputs": [
        {
          "output_type": "stream",
          "text": [
            "/usr/local/lib/python3.7/dist-packages/pandas/core/generic.py:5170: SettingWithCopyWarning: \n",
            "A value is trying to be set on a copy of a slice from a DataFrame.\n",
            "Try using .loc[row_indexer,col_indexer] = value instead\n",
            "\n",
            "See the caveats in the documentation: https://pandas.pydata.org/pandas-docs/stable/user_guide/indexing.html#returning-a-view-versus-a-copy\n",
            "  self[name] = value\n"
          ],
          "name": "stderr"
        }
      ]
    },
    {
      "cell_type": "code",
      "metadata": {
        "colab": {
          "base_uri": "https://localhost:8080/",
          "height": 107
        },
        "id": "Uq_Oyv9vPi-d",
        "outputId": "875b09e5-5e81-426c-b606-bff62599e976"
      },
      "source": [
        "df.head(2)"
      ],
      "execution_count": null,
      "outputs": [
        {
          "output_type": "execute_result",
          "data": {
            "text/html": [
              "<div>\n",
              "<style scoped>\n",
              "    .dataframe tbody tr th:only-of-type {\n",
              "        vertical-align: middle;\n",
              "    }\n",
              "\n",
              "    .dataframe tbody tr th {\n",
              "        vertical-align: top;\n",
              "    }\n",
              "\n",
              "    .dataframe thead th {\n",
              "        text-align: right;\n",
              "    }\n",
              "</style>\n",
              "<table border=\"1\" class=\"dataframe\">\n",
              "  <thead>\n",
              "    <tr style=\"text-align: right;\">\n",
              "      <th></th>\n",
              "      <th>IP</th>\n",
              "      <th>Time</th>\n",
              "      <th>URL</th>\n",
              "      <th>Staus</th>\n",
              "    </tr>\n",
              "  </thead>\n",
              "  <tbody>\n",
              "    <tr>\n",
              "      <th>0</th>\n",
              "      <td>10.128.2.1</td>\n",
              "      <td>29/Nov/2017:06:58:55</td>\n",
              "      <td>GET /login.php HTTP/1.1</td>\n",
              "      <td>200</td>\n",
              "    </tr>\n",
              "    <tr>\n",
              "      <th>1</th>\n",
              "      <td>10.128.2.1</td>\n",
              "      <td>29/Nov/2017:06:59:02</td>\n",
              "      <td>POST /process.php HTTP/1.1</td>\n",
              "      <td>302</td>\n",
              "    </tr>\n",
              "  </tbody>\n",
              "</table>\n",
              "</div>"
            ],
            "text/plain": [
              "           IP                  Time                         URL Staus\n",
              "0  10.128.2.1  29/Nov/2017:06:58:55     GET /login.php HTTP/1.1   200\n",
              "1  10.128.2.1  29/Nov/2017:06:59:02  POST /process.php HTTP/1.1   302"
            ]
          },
          "metadata": {
            "tags": []
          },
          "execution_count": 211
        }
      ]
    },
    {
      "cell_type": "code",
      "metadata": {
        "colab": {
          "base_uri": "https://localhost:8080/"
        },
        "id": "GgDh8GQLfATa",
        "outputId": "f7bc5eed-72f2-43e3-e8ba-8e4cc0d659e2"
      },
      "source": [
        "from datetime import datetime\r\n",
        "\r\n",
        "s = \"29/Nov/2017:06:58:55\"\r\n",
        "f = \"%d/%b/%Y:%H:%M:%S\"\r\n",
        "out = datetime.strptime(s, f)\r\n",
        "print(out)"
      ],
      "execution_count": null,
      "outputs": [
        {
          "output_type": "stream",
          "text": [
            "2017-11-29 06:58:55\n"
          ],
          "name": "stdout"
        }
      ]
    },
    {
      "cell_type": "code",
      "metadata": {
        "colab": {
          "base_uri": "https://localhost:8080/"
        },
        "id": "aD1jBmpNnOwL",
        "outputId": "b201c3a3-6365-4b80-e4cc-50471206312f"
      },
      "source": [
        "#converting into Timestamp format\r\n",
        "df['Time'] = pd.to_datetime(df['Time'], format='%d/%b/%Y:%H:%M:%S')"
      ],
      "execution_count": null,
      "outputs": [
        {
          "output_type": "stream",
          "text": [
            "/usr/local/lib/python3.7/dist-packages/ipykernel_launcher.py:2: SettingWithCopyWarning: \n",
            "A value is trying to be set on a copy of a slice from a DataFrame.\n",
            "Try using .loc[row_indexer,col_indexer] = value instead\n",
            "\n",
            "See the caveats in the documentation: https://pandas.pydata.org/pandas-docs/stable/user_guide/indexing.html#returning-a-view-versus-a-copy\n",
            "  \n"
          ],
          "name": "stderr"
        }
      ]
    },
    {
      "cell_type": "code",
      "metadata": {
        "colab": {
          "base_uri": "https://localhost:8080/"
        },
        "id": "uLKN0KJunPS8",
        "outputId": "150d103e-32bc-4265-b4a9-331f435062cd"
      },
      "source": [
        "df.info()"
      ],
      "execution_count": null,
      "outputs": [
        {
          "output_type": "stream",
          "text": [
            "<class 'pandas.core.frame.DataFrame'>\n",
            "Int64Index: 15789 entries, 0 to 16006\n",
            "Data columns (total 4 columns):\n",
            " #   Column  Non-Null Count  Dtype         \n",
            "---  ------  --------------  -----         \n",
            " 0   IP      15789 non-null  object        \n",
            " 1   Time    15789 non-null  datetime64[ns]\n",
            " 2   URL     15789 non-null  object        \n",
            " 3   Staus   15789 non-null  object        \n",
            "dtypes: datetime64[ns](1), object(3)\n",
            "memory usage: 616.8+ KB\n"
          ],
          "name": "stdout"
        }
      ]
    },
    {
      "cell_type": "code",
      "metadata": {
        "colab": {
          "base_uri": "https://localhost:8080/",
          "height": 197
        },
        "id": "uXE0SYYinPWX",
        "outputId": "5a06475f-cfd9-4762-b1bf-295cf1f322c7"
      },
      "source": [
        "df.head()"
      ],
      "execution_count": null,
      "outputs": [
        {
          "output_type": "execute_result",
          "data": {
            "text/html": [
              "<div>\n",
              "<style scoped>\n",
              "    .dataframe tbody tr th:only-of-type {\n",
              "        vertical-align: middle;\n",
              "    }\n",
              "\n",
              "    .dataframe tbody tr th {\n",
              "        vertical-align: top;\n",
              "    }\n",
              "\n",
              "    .dataframe thead th {\n",
              "        text-align: right;\n",
              "    }\n",
              "</style>\n",
              "<table border=\"1\" class=\"dataframe\">\n",
              "  <thead>\n",
              "    <tr style=\"text-align: right;\">\n",
              "      <th></th>\n",
              "      <th>IP</th>\n",
              "      <th>Time</th>\n",
              "      <th>URL</th>\n",
              "      <th>Staus</th>\n",
              "    </tr>\n",
              "  </thead>\n",
              "  <tbody>\n",
              "    <tr>\n",
              "      <th>0</th>\n",
              "      <td>10.128.2.1</td>\n",
              "      <td>2017-11-29 06:58:55</td>\n",
              "      <td>GET /login.php HTTP/1.1</td>\n",
              "      <td>200</td>\n",
              "    </tr>\n",
              "    <tr>\n",
              "      <th>1</th>\n",
              "      <td>10.128.2.1</td>\n",
              "      <td>2017-11-29 06:59:02</td>\n",
              "      <td>POST /process.php HTTP/1.1</td>\n",
              "      <td>302</td>\n",
              "    </tr>\n",
              "    <tr>\n",
              "      <th>2</th>\n",
              "      <td>10.128.2.1</td>\n",
              "      <td>2017-11-29 06:59:03</td>\n",
              "      <td>GET /home.php HTTP/1.1</td>\n",
              "      <td>200</td>\n",
              "    </tr>\n",
              "    <tr>\n",
              "      <th>3</th>\n",
              "      <td>10.131.2.1</td>\n",
              "      <td>2017-11-29 06:59:04</td>\n",
              "      <td>GET /js/vendor/moment.min.js HTTP/1.1</td>\n",
              "      <td>200</td>\n",
              "    </tr>\n",
              "    <tr>\n",
              "      <th>4</th>\n",
              "      <td>10.130.2.1</td>\n",
              "      <td>2017-11-29 06:59:06</td>\n",
              "      <td>GET /bootstrap-3.3.7/js/bootstrap.js HTTP/1.1</td>\n",
              "      <td>200</td>\n",
              "    </tr>\n",
              "  </tbody>\n",
              "</table>\n",
              "</div>"
            ],
            "text/plain": [
              "           IP  ... Staus\n",
              "0  10.128.2.1  ...   200\n",
              "1  10.128.2.1  ...   302\n",
              "2  10.128.2.1  ...   200\n",
              "3  10.131.2.1  ...   200\n",
              "4  10.130.2.1  ...   200\n",
              "\n",
              "[5 rows x 4 columns]"
            ]
          },
          "metadata": {
            "tags": []
          },
          "execution_count": 215
        }
      ]
    },
    {
      "cell_type": "code",
      "metadata": {
        "id": "Dc6K_iYlrOb9"
      },
      "source": [
        "df['year'] = df['Time'].dt.year\r\n",
        "df['month'] = df['Time'].dt.month\r\n",
        "df['day'] = df['Time'].dt.day\r\n",
        "df['hour'] = df['Time'].dt.hour\r\n",
        "df['minute'] = df['Time'].dt.minute\r\n",
        "df['second'] = df['Time'].dt.second"
      ],
      "execution_count": null,
      "outputs": []
    },
    {
      "cell_type": "code",
      "metadata": {
        "colab": {
          "base_uri": "https://localhost:8080/",
          "height": 406
        },
        "id": "SsYNm4j9rOfQ",
        "outputId": "ecfe0b9d-5e5e-4416-b8f3-d7e75136dc2f"
      },
      "source": [
        "df"
      ],
      "execution_count": null,
      "outputs": [
        {
          "output_type": "execute_result",
          "data": {
            "text/html": [
              "<div>\n",
              "<style scoped>\n",
              "    .dataframe tbody tr th:only-of-type {\n",
              "        vertical-align: middle;\n",
              "    }\n",
              "\n",
              "    .dataframe tbody tr th {\n",
              "        vertical-align: top;\n",
              "    }\n",
              "\n",
              "    .dataframe thead th {\n",
              "        text-align: right;\n",
              "    }\n",
              "</style>\n",
              "<table border=\"1\" class=\"dataframe\">\n",
              "  <thead>\n",
              "    <tr style=\"text-align: right;\">\n",
              "      <th></th>\n",
              "      <th>IP</th>\n",
              "      <th>Time</th>\n",
              "      <th>URL</th>\n",
              "      <th>Staus</th>\n",
              "      <th>year</th>\n",
              "      <th>month</th>\n",
              "      <th>day</th>\n",
              "      <th>hour</th>\n",
              "      <th>minute</th>\n",
              "      <th>second</th>\n",
              "    </tr>\n",
              "  </thead>\n",
              "  <tbody>\n",
              "    <tr>\n",
              "      <th>0</th>\n",
              "      <td>10.128.2.1</td>\n",
              "      <td>2017-11-29 06:58:55</td>\n",
              "      <td>GET /login.php HTTP/1.1</td>\n",
              "      <td>200</td>\n",
              "      <td>2017</td>\n",
              "      <td>11</td>\n",
              "      <td>29</td>\n",
              "      <td>6</td>\n",
              "      <td>58</td>\n",
              "      <td>55</td>\n",
              "    </tr>\n",
              "    <tr>\n",
              "      <th>1</th>\n",
              "      <td>10.128.2.1</td>\n",
              "      <td>2017-11-29 06:59:02</td>\n",
              "      <td>POST /process.php HTTP/1.1</td>\n",
              "      <td>302</td>\n",
              "      <td>2017</td>\n",
              "      <td>11</td>\n",
              "      <td>29</td>\n",
              "      <td>6</td>\n",
              "      <td>59</td>\n",
              "      <td>2</td>\n",
              "    </tr>\n",
              "    <tr>\n",
              "      <th>2</th>\n",
              "      <td>10.128.2.1</td>\n",
              "      <td>2017-11-29 06:59:03</td>\n",
              "      <td>GET /home.php HTTP/1.1</td>\n",
              "      <td>200</td>\n",
              "      <td>2017</td>\n",
              "      <td>11</td>\n",
              "      <td>29</td>\n",
              "      <td>6</td>\n",
              "      <td>59</td>\n",
              "      <td>3</td>\n",
              "    </tr>\n",
              "    <tr>\n",
              "      <th>3</th>\n",
              "      <td>10.131.2.1</td>\n",
              "      <td>2017-11-29 06:59:04</td>\n",
              "      <td>GET /js/vendor/moment.min.js HTTP/1.1</td>\n",
              "      <td>200</td>\n",
              "      <td>2017</td>\n",
              "      <td>11</td>\n",
              "      <td>29</td>\n",
              "      <td>6</td>\n",
              "      <td>59</td>\n",
              "      <td>4</td>\n",
              "    </tr>\n",
              "    <tr>\n",
              "      <th>4</th>\n",
              "      <td>10.130.2.1</td>\n",
              "      <td>2017-11-29 06:59:06</td>\n",
              "      <td>GET /bootstrap-3.3.7/js/bootstrap.js HTTP/1.1</td>\n",
              "      <td>200</td>\n",
              "      <td>2017</td>\n",
              "      <td>11</td>\n",
              "      <td>29</td>\n",
              "      <td>6</td>\n",
              "      <td>59</td>\n",
              "      <td>6</td>\n",
              "    </tr>\n",
              "    <tr>\n",
              "      <th>...</th>\n",
              "      <td>...</td>\n",
              "      <td>...</td>\n",
              "      <td>...</td>\n",
              "      <td>...</td>\n",
              "      <td>...</td>\n",
              "      <td>...</td>\n",
              "      <td>...</td>\n",
              "      <td>...</td>\n",
              "      <td>...</td>\n",
              "      <td>...</td>\n",
              "    </tr>\n",
              "    <tr>\n",
              "      <th>16002</th>\n",
              "      <td>10.130.2.1</td>\n",
              "      <td>2018-03-02 15:47:12</td>\n",
              "      <td>GET /showcode.php?id=309&amp;nm=ham05 HTTP/1.1</td>\n",
              "      <td>200</td>\n",
              "      <td>2018</td>\n",
              "      <td>3</td>\n",
              "      <td>2</td>\n",
              "      <td>15</td>\n",
              "      <td>47</td>\n",
              "      <td>12</td>\n",
              "    </tr>\n",
              "    <tr>\n",
              "      <th>16003</th>\n",
              "      <td>10.130.2.1</td>\n",
              "      <td>2018-03-02 15:47:23</td>\n",
              "      <td>GET /allsubmission.php HTTP/1.1</td>\n",
              "      <td>200</td>\n",
              "      <td>2018</td>\n",
              "      <td>3</td>\n",
              "      <td>2</td>\n",
              "      <td>15</td>\n",
              "      <td>47</td>\n",
              "      <td>23</td>\n",
              "    </tr>\n",
              "    <tr>\n",
              "      <th>16004</th>\n",
              "      <td>10.130.2.1</td>\n",
              "      <td>2018-03-02 15:47:32</td>\n",
              "      <td>GET /showcode.php?id=309&amp;nm=ham05 HTTP/1.1</td>\n",
              "      <td>200</td>\n",
              "      <td>2018</td>\n",
              "      <td>3</td>\n",
              "      <td>2</td>\n",
              "      <td>15</td>\n",
              "      <td>47</td>\n",
              "      <td>32</td>\n",
              "    </tr>\n",
              "    <tr>\n",
              "      <th>16005</th>\n",
              "      <td>10.130.2.1</td>\n",
              "      <td>2018-03-02 15:47:35</td>\n",
              "      <td>GET /allsubmission.php HTTP/1.1</td>\n",
              "      <td>200</td>\n",
              "      <td>2018</td>\n",
              "      <td>3</td>\n",
              "      <td>2</td>\n",
              "      <td>15</td>\n",
              "      <td>47</td>\n",
              "      <td>35</td>\n",
              "    </tr>\n",
              "    <tr>\n",
              "      <th>16006</th>\n",
              "      <td>10.130.2.1</td>\n",
              "      <td>2018-03-02 15:47:46</td>\n",
              "      <td>GET /home.php HTTP/1.1</td>\n",
              "      <td>200</td>\n",
              "      <td>2018</td>\n",
              "      <td>3</td>\n",
              "      <td>2</td>\n",
              "      <td>15</td>\n",
              "      <td>47</td>\n",
              "      <td>46</td>\n",
              "    </tr>\n",
              "  </tbody>\n",
              "</table>\n",
              "<p>15789 rows × 10 columns</p>\n",
              "</div>"
            ],
            "text/plain": [
              "               IP                Time  ... minute second\n",
              "0      10.128.2.1 2017-11-29 06:58:55  ...     58     55\n",
              "1      10.128.2.1 2017-11-29 06:59:02  ...     59      2\n",
              "2      10.128.2.1 2017-11-29 06:59:03  ...     59      3\n",
              "3      10.131.2.1 2017-11-29 06:59:04  ...     59      4\n",
              "4      10.130.2.1 2017-11-29 06:59:06  ...     59      6\n",
              "...           ...                 ...  ...    ...    ...\n",
              "16002  10.130.2.1 2018-03-02 15:47:12  ...     47     12\n",
              "16003  10.130.2.1 2018-03-02 15:47:23  ...     47     23\n",
              "16004  10.130.2.1 2018-03-02 15:47:32  ...     47     32\n",
              "16005  10.130.2.1 2018-03-02 15:47:35  ...     47     35\n",
              "16006  10.130.2.1 2018-03-02 15:47:46  ...     47     46\n",
              "\n",
              "[15789 rows x 10 columns]"
            ]
          },
          "metadata": {
            "tags": []
          },
          "execution_count": 218
        }
      ]
    },
    {
      "cell_type": "code",
      "metadata": {
        "id": "RgrboFdQrOii"
      },
      "source": [
        "print(df.groupby(df.hour).max())"
      ],
      "execution_count": null,
      "outputs": []
    },
    {
      "cell_type": "code",
      "metadata": {
        "id": "YmnpT-YCxsMB"
      },
      "source": [
        "print(df.groupby(df.hour).min())"
      ],
      "execution_count": null,
      "outputs": []
    },
    {
      "cell_type": "code",
      "metadata": {
        "id": "0qZlWmAOxsQX"
      },
      "source": [
        "print(df.groupby(df.hour).mean())"
      ],
      "execution_count": null,
      "outputs": []
    },
    {
      "cell_type": "code",
      "metadata": {
        "colab": {
          "base_uri": "https://localhost:8080/",
          "height": 197
        },
        "id": "3d1ZMTreu1tu",
        "outputId": "e25ee9b5-9066-44fd-d050-5daa3c014eea"
      },
      "source": [
        "df.head()"
      ],
      "execution_count": null,
      "outputs": [
        {
          "output_type": "execute_result",
          "data": {
            "text/html": [
              "<div>\n",
              "<style scoped>\n",
              "    .dataframe tbody tr th:only-of-type {\n",
              "        vertical-align: middle;\n",
              "    }\n",
              "\n",
              "    .dataframe tbody tr th {\n",
              "        vertical-align: top;\n",
              "    }\n",
              "\n",
              "    .dataframe thead th {\n",
              "        text-align: right;\n",
              "    }\n",
              "</style>\n",
              "<table border=\"1\" class=\"dataframe\">\n",
              "  <thead>\n",
              "    <tr style=\"text-align: right;\">\n",
              "      <th></th>\n",
              "      <th>IP</th>\n",
              "      <th>Time</th>\n",
              "      <th>URL</th>\n",
              "      <th>Staus</th>\n",
              "      <th>year</th>\n",
              "      <th>month</th>\n",
              "      <th>day</th>\n",
              "      <th>hour</th>\n",
              "      <th>minute</th>\n",
              "      <th>second</th>\n",
              "    </tr>\n",
              "  </thead>\n",
              "  <tbody>\n",
              "    <tr>\n",
              "      <th>0</th>\n",
              "      <td>10.128.2.1</td>\n",
              "      <td>2017-11-29 06:58:55</td>\n",
              "      <td>GET /login.php HTTP/1.1</td>\n",
              "      <td>200</td>\n",
              "      <td>2017</td>\n",
              "      <td>11</td>\n",
              "      <td>29</td>\n",
              "      <td>6</td>\n",
              "      <td>58</td>\n",
              "      <td>55</td>\n",
              "    </tr>\n",
              "    <tr>\n",
              "      <th>1</th>\n",
              "      <td>10.128.2.1</td>\n",
              "      <td>2017-11-29 06:59:02</td>\n",
              "      <td>POST /process.php HTTP/1.1</td>\n",
              "      <td>302</td>\n",
              "      <td>2017</td>\n",
              "      <td>11</td>\n",
              "      <td>29</td>\n",
              "      <td>6</td>\n",
              "      <td>59</td>\n",
              "      <td>2</td>\n",
              "    </tr>\n",
              "    <tr>\n",
              "      <th>2</th>\n",
              "      <td>10.128.2.1</td>\n",
              "      <td>2017-11-29 06:59:03</td>\n",
              "      <td>GET /home.php HTTP/1.1</td>\n",
              "      <td>200</td>\n",
              "      <td>2017</td>\n",
              "      <td>11</td>\n",
              "      <td>29</td>\n",
              "      <td>6</td>\n",
              "      <td>59</td>\n",
              "      <td>3</td>\n",
              "    </tr>\n",
              "    <tr>\n",
              "      <th>3</th>\n",
              "      <td>10.131.2.1</td>\n",
              "      <td>2017-11-29 06:59:04</td>\n",
              "      <td>GET /js/vendor/moment.min.js HTTP/1.1</td>\n",
              "      <td>200</td>\n",
              "      <td>2017</td>\n",
              "      <td>11</td>\n",
              "      <td>29</td>\n",
              "      <td>6</td>\n",
              "      <td>59</td>\n",
              "      <td>4</td>\n",
              "    </tr>\n",
              "    <tr>\n",
              "      <th>4</th>\n",
              "      <td>10.130.2.1</td>\n",
              "      <td>2017-11-29 06:59:06</td>\n",
              "      <td>GET /bootstrap-3.3.7/js/bootstrap.js HTTP/1.1</td>\n",
              "      <td>200</td>\n",
              "      <td>2017</td>\n",
              "      <td>11</td>\n",
              "      <td>29</td>\n",
              "      <td>6</td>\n",
              "      <td>59</td>\n",
              "      <td>6</td>\n",
              "    </tr>\n",
              "  </tbody>\n",
              "</table>\n",
              "</div>"
            ],
            "text/plain": [
              "           IP                Time  ... minute second\n",
              "0  10.128.2.1 2017-11-29 06:58:55  ...     58     55\n",
              "1  10.128.2.1 2017-11-29 06:59:02  ...     59      2\n",
              "2  10.128.2.1 2017-11-29 06:59:03  ...     59      3\n",
              "3  10.131.2.1 2017-11-29 06:59:04  ...     59      4\n",
              "4  10.130.2.1 2017-11-29 06:59:06  ...     59      6\n",
              "\n",
              "[5 rows x 10 columns]"
            ]
          },
          "metadata": {
            "tags": []
          },
          "execution_count": 189
        }
      ]
    },
    {
      "cell_type": "code",
      "metadata": {
        "id": "KbOi7PGF4QIu"
      },
      "source": [
        "#splitting URL part\r\n",
        "df['Requests'], df['half url'] = df['URL'].str.split('/', 1).str"
      ],
      "execution_count": null,
      "outputs": []
    },
    {
      "cell_type": "code",
      "metadata": {
        "colab": {
          "base_uri": "https://localhost:8080/",
          "height": 406
        },
        "id": "_ArBnyCy4QNj",
        "outputId": "8fa9bbee-364f-4128-9e65-add1398427ef"
      },
      "source": [
        "df"
      ],
      "execution_count": null,
      "outputs": [
        {
          "output_type": "execute_result",
          "data": {
            "text/html": [
              "<div>\n",
              "<style scoped>\n",
              "    .dataframe tbody tr th:only-of-type {\n",
              "        vertical-align: middle;\n",
              "    }\n",
              "\n",
              "    .dataframe tbody tr th {\n",
              "        vertical-align: top;\n",
              "    }\n",
              "\n",
              "    .dataframe thead th {\n",
              "        text-align: right;\n",
              "    }\n",
              "</style>\n",
              "<table border=\"1\" class=\"dataframe\">\n",
              "  <thead>\n",
              "    <tr style=\"text-align: right;\">\n",
              "      <th></th>\n",
              "      <th>IP</th>\n",
              "      <th>Time</th>\n",
              "      <th>URL</th>\n",
              "      <th>Staus</th>\n",
              "      <th>year</th>\n",
              "      <th>month</th>\n",
              "      <th>day</th>\n",
              "      <th>hour</th>\n",
              "      <th>minute</th>\n",
              "      <th>second</th>\n",
              "      <th>Requests</th>\n",
              "      <th>half url</th>\n",
              "    </tr>\n",
              "  </thead>\n",
              "  <tbody>\n",
              "    <tr>\n",
              "      <th>0</th>\n",
              "      <td>10.128.2.1</td>\n",
              "      <td>2017-11-29 06:58:55</td>\n",
              "      <td>GET /login.php HTTP/1.1</td>\n",
              "      <td>200</td>\n",
              "      <td>2017</td>\n",
              "      <td>11</td>\n",
              "      <td>29</td>\n",
              "      <td>6</td>\n",
              "      <td>58</td>\n",
              "      <td>55</td>\n",
              "      <td>GET</td>\n",
              "      <td>login.php HTTP/1.1</td>\n",
              "    </tr>\n",
              "    <tr>\n",
              "      <th>1</th>\n",
              "      <td>10.128.2.1</td>\n",
              "      <td>2017-11-29 06:59:02</td>\n",
              "      <td>POST /process.php HTTP/1.1</td>\n",
              "      <td>302</td>\n",
              "      <td>2017</td>\n",
              "      <td>11</td>\n",
              "      <td>29</td>\n",
              "      <td>6</td>\n",
              "      <td>59</td>\n",
              "      <td>2</td>\n",
              "      <td>POST</td>\n",
              "      <td>process.php HTTP/1.1</td>\n",
              "    </tr>\n",
              "    <tr>\n",
              "      <th>2</th>\n",
              "      <td>10.128.2.1</td>\n",
              "      <td>2017-11-29 06:59:03</td>\n",
              "      <td>GET /home.php HTTP/1.1</td>\n",
              "      <td>200</td>\n",
              "      <td>2017</td>\n",
              "      <td>11</td>\n",
              "      <td>29</td>\n",
              "      <td>6</td>\n",
              "      <td>59</td>\n",
              "      <td>3</td>\n",
              "      <td>GET</td>\n",
              "      <td>home.php HTTP/1.1</td>\n",
              "    </tr>\n",
              "    <tr>\n",
              "      <th>3</th>\n",
              "      <td>10.131.2.1</td>\n",
              "      <td>2017-11-29 06:59:04</td>\n",
              "      <td>GET /js/vendor/moment.min.js HTTP/1.1</td>\n",
              "      <td>200</td>\n",
              "      <td>2017</td>\n",
              "      <td>11</td>\n",
              "      <td>29</td>\n",
              "      <td>6</td>\n",
              "      <td>59</td>\n",
              "      <td>4</td>\n",
              "      <td>GET</td>\n",
              "      <td>js/vendor/moment.min.js HTTP/1.1</td>\n",
              "    </tr>\n",
              "    <tr>\n",
              "      <th>4</th>\n",
              "      <td>10.130.2.1</td>\n",
              "      <td>2017-11-29 06:59:06</td>\n",
              "      <td>GET /bootstrap-3.3.7/js/bootstrap.js HTTP/1.1</td>\n",
              "      <td>200</td>\n",
              "      <td>2017</td>\n",
              "      <td>11</td>\n",
              "      <td>29</td>\n",
              "      <td>6</td>\n",
              "      <td>59</td>\n",
              "      <td>6</td>\n",
              "      <td>GET</td>\n",
              "      <td>bootstrap-3.3.7/js/bootstrap.js HTTP/1.1</td>\n",
              "    </tr>\n",
              "    <tr>\n",
              "      <th>...</th>\n",
              "      <td>...</td>\n",
              "      <td>...</td>\n",
              "      <td>...</td>\n",
              "      <td>...</td>\n",
              "      <td>...</td>\n",
              "      <td>...</td>\n",
              "      <td>...</td>\n",
              "      <td>...</td>\n",
              "      <td>...</td>\n",
              "      <td>...</td>\n",
              "      <td>...</td>\n",
              "      <td>...</td>\n",
              "    </tr>\n",
              "    <tr>\n",
              "      <th>16002</th>\n",
              "      <td>10.130.2.1</td>\n",
              "      <td>2018-03-02 15:47:12</td>\n",
              "      <td>GET /showcode.php?id=309&amp;nm=ham05 HTTP/1.1</td>\n",
              "      <td>200</td>\n",
              "      <td>2018</td>\n",
              "      <td>3</td>\n",
              "      <td>2</td>\n",
              "      <td>15</td>\n",
              "      <td>47</td>\n",
              "      <td>12</td>\n",
              "      <td>GET</td>\n",
              "      <td>showcode.php?id=309&amp;nm=ham05 HTTP/1.1</td>\n",
              "    </tr>\n",
              "    <tr>\n",
              "      <th>16003</th>\n",
              "      <td>10.130.2.1</td>\n",
              "      <td>2018-03-02 15:47:23</td>\n",
              "      <td>GET /allsubmission.php HTTP/1.1</td>\n",
              "      <td>200</td>\n",
              "      <td>2018</td>\n",
              "      <td>3</td>\n",
              "      <td>2</td>\n",
              "      <td>15</td>\n",
              "      <td>47</td>\n",
              "      <td>23</td>\n",
              "      <td>GET</td>\n",
              "      <td>allsubmission.php HTTP/1.1</td>\n",
              "    </tr>\n",
              "    <tr>\n",
              "      <th>16004</th>\n",
              "      <td>10.130.2.1</td>\n",
              "      <td>2018-03-02 15:47:32</td>\n",
              "      <td>GET /showcode.php?id=309&amp;nm=ham05 HTTP/1.1</td>\n",
              "      <td>200</td>\n",
              "      <td>2018</td>\n",
              "      <td>3</td>\n",
              "      <td>2</td>\n",
              "      <td>15</td>\n",
              "      <td>47</td>\n",
              "      <td>32</td>\n",
              "      <td>GET</td>\n",
              "      <td>showcode.php?id=309&amp;nm=ham05 HTTP/1.1</td>\n",
              "    </tr>\n",
              "    <tr>\n",
              "      <th>16005</th>\n",
              "      <td>10.130.2.1</td>\n",
              "      <td>2018-03-02 15:47:35</td>\n",
              "      <td>GET /allsubmission.php HTTP/1.1</td>\n",
              "      <td>200</td>\n",
              "      <td>2018</td>\n",
              "      <td>3</td>\n",
              "      <td>2</td>\n",
              "      <td>15</td>\n",
              "      <td>47</td>\n",
              "      <td>35</td>\n",
              "      <td>GET</td>\n",
              "      <td>allsubmission.php HTTP/1.1</td>\n",
              "    </tr>\n",
              "    <tr>\n",
              "      <th>16006</th>\n",
              "      <td>10.130.2.1</td>\n",
              "      <td>2018-03-02 15:47:46</td>\n",
              "      <td>GET /home.php HTTP/1.1</td>\n",
              "      <td>200</td>\n",
              "      <td>2018</td>\n",
              "      <td>3</td>\n",
              "      <td>2</td>\n",
              "      <td>15</td>\n",
              "      <td>47</td>\n",
              "      <td>46</td>\n",
              "      <td>GET</td>\n",
              "      <td>home.php HTTP/1.1</td>\n",
              "    </tr>\n",
              "  </tbody>\n",
              "</table>\n",
              "<p>15789 rows × 12 columns</p>\n",
              "</div>"
            ],
            "text/plain": [
              "               IP  ...                                  half url\n",
              "0      10.128.2.1  ...                        login.php HTTP/1.1\n",
              "1      10.128.2.1  ...                      process.php HTTP/1.1\n",
              "2      10.128.2.1  ...                         home.php HTTP/1.1\n",
              "3      10.131.2.1  ...          js/vendor/moment.min.js HTTP/1.1\n",
              "4      10.130.2.1  ...  bootstrap-3.3.7/js/bootstrap.js HTTP/1.1\n",
              "...           ...  ...                                       ...\n",
              "16002  10.130.2.1  ...     showcode.php?id=309&nm=ham05 HTTP/1.1\n",
              "16003  10.130.2.1  ...                allsubmission.php HTTP/1.1\n",
              "16004  10.130.2.1  ...     showcode.php?id=309&nm=ham05 HTTP/1.1\n",
              "16005  10.130.2.1  ...                allsubmission.php HTTP/1.1\n",
              "16006  10.130.2.1  ...                         home.php HTTP/1.1\n",
              "\n",
              "[15789 rows x 12 columns]"
            ]
          },
          "metadata": {
            "tags": []
          },
          "execution_count": 220
        }
      ]
    },
    {
      "cell_type": "code",
      "metadata": {
        "colab": {
          "base_uri": "https://localhost:8080/"
        },
        "id": "Cc-4uQdH6Fvh",
        "outputId": "f0a4a3cb-c2a6-4275-e6d4-833894f0ccb9"
      },
      "source": [
        "df.info()"
      ],
      "execution_count": null,
      "outputs": [
        {
          "output_type": "stream",
          "text": [
            "<class 'pandas.core.frame.DataFrame'>\n",
            "Int64Index: 15789 entries, 0 to 16006\n",
            "Data columns (total 12 columns):\n",
            " #   Column    Non-Null Count  Dtype         \n",
            "---  ------    --------------  -----         \n",
            " 0   IP        15789 non-null  object        \n",
            " 1   Time      15789 non-null  datetime64[ns]\n",
            " 2   URL       15789 non-null  object        \n",
            " 3   Staus     15789 non-null  object        \n",
            " 4   year      15789 non-null  int64         \n",
            " 5   month     15789 non-null  int64         \n",
            " 6   day       15789 non-null  int64         \n",
            " 7   hour      15789 non-null  int64         \n",
            " 8   minute    15789 non-null  int64         \n",
            " 9   second    15789 non-null  int64         \n",
            " 10  Requests  15789 non-null  object        \n",
            " 11  half url  15789 non-null  object        \n",
            "dtypes: datetime64[ns](1), int64(6), object(5)\n",
            "memory usage: 1.6+ MB\n"
          ],
          "name": "stdout"
        }
      ]
    },
    {
      "cell_type": "code",
      "metadata": {
        "colab": {
          "base_uri": "https://localhost:8080/",
          "height": 227
        },
        "id": "fiCbaekOMPLW",
        "outputId": "3233c66c-d85f-4903-a223-85bf71493298"
      },
      "source": [
        "#max request per hours\r\n",
        "(df.groupby([\"Requests\"]).agg({'hour': ['max']}).stb.subtotal())"
      ],
      "execution_count": null,
      "outputs": [
        {
          "output_type": "execute_result",
          "data": {
            "text/html": [
              "<div>\n",
              "<style scoped>\n",
              "    .dataframe tbody tr th:only-of-type {\n",
              "        vertical-align: middle;\n",
              "    }\n",
              "\n",
              "    .dataframe tbody tr th {\n",
              "        vertical-align: top;\n",
              "    }\n",
              "\n",
              "    .dataframe thead tr th {\n",
              "        text-align: left;\n",
              "    }\n",
              "\n",
              "    .dataframe thead tr:last-of-type th {\n",
              "        text-align: right;\n",
              "    }\n",
              "</style>\n",
              "<table border=\"1\" class=\"dataframe\">\n",
              "  <thead>\n",
              "    <tr>\n",
              "      <th></th>\n",
              "      <th>hour</th>\n",
              "    </tr>\n",
              "    <tr>\n",
              "      <th></th>\n",
              "      <th>max</th>\n",
              "    </tr>\n",
              "    <tr>\n",
              "      <th>Requests</th>\n",
              "      <th></th>\n",
              "    </tr>\n",
              "  </thead>\n",
              "  <tbody>\n",
              "    <tr>\n",
              "      <th>GET</th>\n",
              "      <td>23</td>\n",
              "    </tr>\n",
              "    <tr>\n",
              "      <th>HEAD</th>\n",
              "      <td>20</td>\n",
              "    </tr>\n",
              "    <tr>\n",
              "      <th>POST</th>\n",
              "      <td>23</td>\n",
              "    </tr>\n",
              "    <tr>\n",
              "      <th>grand_total</th>\n",
              "      <td>66</td>\n",
              "    </tr>\n",
              "  </tbody>\n",
              "</table>\n",
              "</div>"
            ],
            "text/plain": [
              "            hour\n",
              "             max\n",
              "Requests        \n",
              "GET           23\n",
              "HEAD          20\n",
              "POST          23\n",
              "grand_total   66"
            ]
          },
          "metadata": {
            "tags": []
          },
          "execution_count": 281
        }
      ]
    },
    {
      "cell_type": "markdown",
      "metadata": {
        "id": "M6uX8xvtODve"
      },
      "source": [
        "Max **66** request in an **hour**"
      ]
    },
    {
      "cell_type": "code",
      "metadata": {
        "colab": {
          "base_uri": "https://localhost:8080/",
          "height": 227
        },
        "id": "qBHuN2rhMjMZ",
        "outputId": "1ff33a4f-8a11-458e-c218-0e8746f27de3"
      },
      "source": [
        "##min request per hours\r\n",
        "\r\n",
        "df.groupby([\"Requests\"]).agg({'hour': ['min']}).stb.subtotal()"
      ],
      "execution_count": null,
      "outputs": [
        {
          "output_type": "execute_result",
          "data": {
            "text/html": [
              "<div>\n",
              "<style scoped>\n",
              "    .dataframe tbody tr th:only-of-type {\n",
              "        vertical-align: middle;\n",
              "    }\n",
              "\n",
              "    .dataframe tbody tr th {\n",
              "        vertical-align: top;\n",
              "    }\n",
              "\n",
              "    .dataframe thead tr th {\n",
              "        text-align: left;\n",
              "    }\n",
              "\n",
              "    .dataframe thead tr:last-of-type th {\n",
              "        text-align: right;\n",
              "    }\n",
              "</style>\n",
              "<table border=\"1\" class=\"dataframe\">\n",
              "  <thead>\n",
              "    <tr>\n",
              "      <th></th>\n",
              "      <th>hour</th>\n",
              "    </tr>\n",
              "    <tr>\n",
              "      <th></th>\n",
              "      <th>min</th>\n",
              "    </tr>\n",
              "    <tr>\n",
              "      <th>Requests</th>\n",
              "      <th></th>\n",
              "    </tr>\n",
              "  </thead>\n",
              "  <tbody>\n",
              "    <tr>\n",
              "      <th>GET</th>\n",
              "      <td>0</td>\n",
              "    </tr>\n",
              "    <tr>\n",
              "      <th>HEAD</th>\n",
              "      <td>20</td>\n",
              "    </tr>\n",
              "    <tr>\n",
              "      <th>POST</th>\n",
              "      <td>0</td>\n",
              "    </tr>\n",
              "    <tr>\n",
              "      <th>grand_total</th>\n",
              "      <td>20</td>\n",
              "    </tr>\n",
              "  </tbody>\n",
              "</table>\n",
              "</div>"
            ],
            "text/plain": [
              "            hour\n",
              "             min\n",
              "Requests        \n",
              "GET            0\n",
              "HEAD          20\n",
              "POST           0\n",
              "grand_total   20"
            ]
          },
          "metadata": {
            "tags": []
          },
          "execution_count": 272
        }
      ]
    },
    {
      "cell_type": "markdown",
      "metadata": {
        "id": "N8xVEuNDOPs2"
      },
      "source": [
        "Min **20** request in an **hour**"
      ]
    },
    {
      "cell_type": "code",
      "metadata": {
        "colab": {
          "base_uri": "https://localhost:8080/",
          "height": 227
        },
        "id": "Q2e0-2xXMjbc",
        "outputId": "2b5544fe-ba1d-4aa0-f1c5-6f38c9c23b0c"
      },
      "source": [
        "#average request per hours\r\n",
        "\r\n",
        "df.groupby([\"Requests\"]).agg({'hour': ['mean']}).stb.subtotal()"
      ],
      "execution_count": null,
      "outputs": [
        {
          "output_type": "execute_result",
          "data": {
            "text/html": [
              "<div>\n",
              "<style scoped>\n",
              "    .dataframe tbody tr th:only-of-type {\n",
              "        vertical-align: middle;\n",
              "    }\n",
              "\n",
              "    .dataframe tbody tr th {\n",
              "        vertical-align: top;\n",
              "    }\n",
              "\n",
              "    .dataframe thead tr th {\n",
              "        text-align: left;\n",
              "    }\n",
              "\n",
              "    .dataframe thead tr:last-of-type th {\n",
              "        text-align: right;\n",
              "    }\n",
              "</style>\n",
              "<table border=\"1\" class=\"dataframe\">\n",
              "  <thead>\n",
              "    <tr>\n",
              "      <th></th>\n",
              "      <th>hour</th>\n",
              "    </tr>\n",
              "    <tr>\n",
              "      <th></th>\n",
              "      <th>mean</th>\n",
              "    </tr>\n",
              "    <tr>\n",
              "      <th>Requests</th>\n",
              "      <th></th>\n",
              "    </tr>\n",
              "  </thead>\n",
              "  <tbody>\n",
              "    <tr>\n",
              "      <th>GET</th>\n",
              "      <td>15.823155</td>\n",
              "    </tr>\n",
              "    <tr>\n",
              "      <th>HEAD</th>\n",
              "      <td>20.000000</td>\n",
              "    </tr>\n",
              "    <tr>\n",
              "      <th>POST</th>\n",
              "      <td>14.873900</td>\n",
              "    </tr>\n",
              "    <tr>\n",
              "      <th>grand_total</th>\n",
              "      <td>50.697056</td>\n",
              "    </tr>\n",
              "  </tbody>\n",
              "</table>\n",
              "</div>"
            ],
            "text/plain": [
              "                  hour\n",
              "                  mean\n",
              "Requests              \n",
              "GET          15.823155\n",
              "HEAD         20.000000\n",
              "POST         14.873900\n",
              "grand_total  50.697056"
            ]
          },
          "metadata": {
            "tags": []
          },
          "execution_count": 271
        }
      ]
    },
    {
      "cell_type": "markdown",
      "metadata": {
        "id": "VySq9PiYOYGb"
      },
      "source": [
        "Average **50** request in an **hour**"
      ]
    },
    {
      "cell_type": "code",
      "metadata": {
        "id": "XhyCUzzAOdsH"
      },
      "source": [
        ""
      ],
      "execution_count": null,
      "outputs": []
    }
  ]
}